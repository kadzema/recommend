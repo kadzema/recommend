{
 "cells": [
  {
   "cell_type": "code",
   "execution_count": 2,
   "metadata": {
    "collapsed": true
   },
   "outputs": [],
   "source": [
    "import csv\n",
    "from bs4 import BeautifulSoup\n",
    "import pandas as pd\n",
    "import requests\n",
    "import re"
   ]
  },
  {
   "cell_type": "code",
   "execution_count": 3,
   "metadata": {
    "collapsed": true
   },
   "outputs": [],
   "source": [
    "url = \"https://www.webstaurantstore.com/article/27/different-types-of-beers.html\""
   ]
  },
  {
   "cell_type": "code",
   "execution_count": 11,
   "metadata": {
    "collapsed": true
   },
   "outputs": [],
   "source": [
    "# response from site\n",
    "response = requests.get(url)\n",
    "\n",
    "#create Beautiful soup object and parse\n",
    "soup = BeautifulSoup(response.text, 'html.parser')\n",
    "\n",
    "table = soup.find_all(\"table\", class_=\"table table-bordered\")"
   ]
  },
  {
   "cell_type": "code",
   "execution_count": 15,
   "metadata": {},
   "outputs": [
    {
     "name": "stdout",
     "output_type": "stream",
     "text": [
      "<h4 style=\"cursor: auto;\">Variety</h4>\n",
      "<h4 style=\"cursor: auto;\"><a href=\"/core-16-oz-rim-tempered-mixing-glass-24-case/5535116HT.html\" target=\"_blank\"><img alt=\"American Lager\" src=\"//cdnimg.webstaurantstore.com/uploads/buying_guide/2017/2/american-lager.jpg\" style=\"cursor: pointer;\"/></a>American Lager</h4>\n",
      "<h4 style=\"cursor: auto;\"><a href=\"/core-12-oz-flared-pilsner-glass-12-case/5534312.html\" target=\"_blank\"><img alt=\"German Helles\" src=\"//cdnimg.webstaurantstore.com/uploads/buying_guide/2017/2/german-helles.jpg\" style=\"cursor: pointer;\"/></a>German Helles</h4>\n",
      "<h4 style=\"cursor: auto;\"><a href=\"/core-16-25-oz-pilsner-glass-12-case/553439.html\" target=\"_blank\"><img alt=\"German Pilsner\" src=\"//cdnimg.webstaurantstore.com/uploads/buying_guide/2017/2/german-pilsner.jpg\" style=\"cursor: pointer;\"/></a>German Pilsner</h4>\n",
      "<h4 style=\"cursor: auto;\"><a href=\"/core-16-oz-pilsner-glass-12-case/553436.html\" target=\"_blank\"><img alt=\"Czech or Bohemian Pilsner\" src=\"//cdnimg.webstaurantstore.com/uploads/buying_guide/2017/2/czech-or-bohemian-pilsner.jpg\" style=\"cursor: pointer;\"/></a>Czech or Bohemian Pilsner</h4>\n"
     ]
    }
   ],
   "source": [
    "trs = table.find_all('tr')\n",
    "\n",
    "for tr in trs:\n",
    "    if tr.find('h4'):\n",
    "        print(tr.find('h4'))\n",
    "    "
   ]
  },
  {
   "cell_type": "code",
   "execution_count": null,
   "metadata": {
    "collapsed": true
   },
   "outputs": [],
   "source": []
  }
 ],
 "metadata": {
  "kernelspec": {
   "display_name": "Python [default]",
   "language": "python",
   "name": "python3"
  },
  "language_info": {
   "codemirror_mode": {
    "name": "ipython",
    "version": 3
   },
   "file_extension": ".py",
   "mimetype": "text/x-python",
   "name": "python",
   "nbconvert_exporter": "python",
   "pygments_lexer": "ipython3",
   "version": "3.6.1"
  }
 },
 "nbformat": 4,
 "nbformat_minor": 2
}
