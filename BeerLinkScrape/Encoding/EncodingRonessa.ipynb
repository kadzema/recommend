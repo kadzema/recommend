{
 "cells": [
  {
   "cell_type": "code",
   "execution_count": 15,
   "metadata": {
    "collapsed": true
   },
   "outputs": [],
   "source": [
    "import pandas as pd"
   ]
  },
  {
   "cell_type": "code",
   "execution_count": 16,
   "metadata": {
    "collapsed": true
   },
   "outputs": [],
   "source": [
    "df = pd.read_csv('../AllBeersFeaturesGTE10.csv')"
   ]
  },
  {
   "cell_type": "code",
   "execution_count": 17,
   "metadata": {},
   "outputs": [
    {
     "data": {
      "text/plain": [
       "Index(['ABV', 'Availaility', 'Brewer', 'BrosScore', 'ImageLink', 'Location',\n",
       "       'Name', 'Ranking', 'RatingCount', 'ReviewCount', 'Score', 'ScoreClass',\n",
       "       'Style', 'URL', 'pDev', 'match_name', 'Color', 'Flavor', 'Hoppiness',\n",
       "       'Maltiness', 'Fruitiness', 'Body', 'Sweetness', 'Custom Flavor', 'Sour',\n",
       "       'Aroma', 'spicy', 'bitter', 'csv_name', 'style_name'],\n",
       "      dtype='object')"
      ]
     },
     "execution_count": 17,
     "metadata": {},
     "output_type": "execute_result"
    }
   ],
   "source": [
    "df.columns"
   ]
  },
  {
   "cell_type": "code",
   "execution_count": 18,
   "metadata": {},
   "outputs": [
    {
     "data": {
      "text/plain": [
       "21246"
      ]
     },
     "execution_count": 18,
     "metadata": {},
     "output_type": "execute_result"
    }
   ],
   "source": [
    "len(df)"
   ]
  },
  {
   "cell_type": "code",
   "execution_count": 19,
   "metadata": {
    "collapsed": true
   },
   "outputs": [],
   "source": [
    "#pd.get_dummies(obj_df, columns=[\"drive_wheels\"]).head()"
   ]
  },
  {
   "cell_type": "code",
   "execution_count": 20,
   "metadata": {
    "collapsed": true
   },
   "outputs": [],
   "source": [
    "df = df[['ABV', 'Availaility', 'Brewer', 'BrosScore', 'ImageLink', 'Location', 'Name', 'Ranking', 'RatingCount', 'ReviewCount', 'Score', 'ScoreClass', 'Style', \n",
    "         'URL', 'pDev', 'Color', 'Flavor', 'Hoppiness', 'Maltiness', \"Fruitiness\", 'Body', 'Sweetness', 'Custom Flavor', 'Sour', 'Aroma',\n",
    "        'spicy', 'bitter']]"
   ]
  },
  {
   "cell_type": "code",
   "execution_count": 21,
   "metadata": {},
   "outputs": [
    {
     "data": {
      "text/plain": [
       "Index(['ABV', 'Availaility', 'Brewer', 'BrosScore', 'ImageLink', 'Location',\n",
       "       'Name', 'Ranking', 'RatingCount', 'ReviewCount', 'Score', 'ScoreClass',\n",
       "       'Style', 'URL', 'pDev', 'Color', 'Flavor', 'Hoppiness', 'Maltiness',\n",
       "       'Fruitiness', 'Body', 'Sweetness', 'Custom Flavor', 'Sour', 'Aroma',\n",
       "       'spicy', 'bitter'],\n",
       "      dtype='object')"
      ]
     },
     "execution_count": 21,
     "metadata": {},
     "output_type": "execute_result"
    }
   ],
   "source": [
    "df.columns"
   ]
  },
  {
   "cell_type": "code",
   "execution_count": 22,
   "metadata": {},
   "outputs": [
    {
     "data": {
      "text/plain": [
       "ABV              float64\n",
       "Availaility       object\n",
       "Brewer            object\n",
       "BrosScore        float64\n",
       "ImageLink         object\n",
       "Location          object\n",
       "Name              object\n",
       "Ranking          float64\n",
       "RatingCount        int64\n",
       "ReviewCount        int64\n",
       "Score            float64\n",
       "ScoreClass        object\n",
       "Style             object\n",
       "URL               object\n",
       "pDev             float64\n",
       "Color             object\n",
       "Flavor             int64\n",
       "Hoppiness          int64\n",
       "Maltiness          int64\n",
       "Fruitiness         int64\n",
       "Body               int64\n",
       "Sweetness          int64\n",
       "Custom Flavor     object\n",
       "Sour               int64\n",
       "Aroma             object\n",
       "spicy              int64\n",
       "bitter             int64\n",
       "dtype: object"
      ]
     },
     "execution_count": 22,
     "metadata": {},
     "output_type": "execute_result"
    }
   ],
   "source": [
    "df.dtypes"
   ]
  },
  {
   "cell_type": "code",
   "execution_count": 23,
   "metadata": {},
   "outputs": [],
   "source": [
    "df[\"Custom Flavor\"].replace(to_replace=\"0\", value=\"None\", inplace=True)"
   ]
  },
  {
   "cell_type": "code",
   "execution_count": 24,
   "metadata": {},
   "outputs": [],
   "source": [
    "df[\"Aroma\"].replace(to_replace=\"0\", value=\"None\", inplace=True)"
   ]
  },
  {
   "cell_type": "code",
   "execution_count": 25,
   "metadata": {},
   "outputs": [
    {
     "data": {
      "text/plain": [
       "21246"
      ]
     },
     "execution_count": 25,
     "metadata": {},
     "output_type": "execute_result"
    }
   ],
   "source": [
    "len(df)"
   ]
  },
  {
   "cell_type": "code",
   "execution_count": 26,
   "metadata": {
    "collapsed": true
   },
   "outputs": [],
   "source": [
    "df = pd.get_dummies(df, columns=[\"Aroma\"])"
   ]
  },
  {
   "cell_type": "code",
   "execution_count": 27,
   "metadata": {
    "collapsed": true
   },
   "outputs": [],
   "source": [
    "df = pd.get_dummies(df, columns=['Custom Flavor'])"
   ]
  },
  {
   "cell_type": "code",
   "execution_count": 28,
   "metadata": {
    "collapsed": true
   },
   "outputs": [],
   "source": [
    "df = pd.get_dummies(df, columns=['Color'])"
   ]
  },
  {
   "cell_type": "code",
   "execution_count": 29,
   "metadata": {},
   "outputs": [
    {
     "data": {
      "text/plain": [
       "21246"
      ]
     },
     "execution_count": 29,
     "metadata": {},
     "output_type": "execute_result"
    }
   ],
   "source": [
    "len(df)"
   ]
  },
  {
   "cell_type": "code",
   "execution_count": 30,
   "metadata": {},
   "outputs": [
    {
     "data": {
      "text/plain": [
       "Index(['ABV', 'Availaility', 'Brewer', 'BrosScore', 'ImageLink', 'Location',\n",
       "       'Name', 'Ranking', 'RatingCount', 'ReviewCount', 'Score', 'ScoreClass',\n",
       "       'Style', 'URL', 'pDev', 'Flavor', 'Hoppiness', 'Maltiness',\n",
       "       'Fruitiness', 'Body', 'Sweetness', 'Sour', 'spicy', 'bitter',\n",
       "       'Aroma_None', 'Aroma_caramel', 'Aroma_floral', 'Aroma_fruit',\n",
       "       'Custom Flavor_None', 'Custom Flavor_banana',\n",
       "       'Custom Flavor_brown sugar', 'Custom Flavor_burnt',\n",
       "       'Custom Flavor_caramel', 'Custom Flavor_chocolate',\n",
       "       'Custom Flavor_earthy', 'Custom Flavor_herbal', 'Custom Flavor_pumpkin',\n",
       "       'Custom Flavor_roasted', 'Custom Flavor_smoke', 'Custom Flavor_toasted',\n",
       "       'Custom Flavor_wheat', 'Color_amber', 'Color_black', 'Color_dark ',\n",
       "       'Color_gold', 'Color_pale'],\n",
       "      dtype='object')"
      ]
     },
     "execution_count": 30,
     "metadata": {},
     "output_type": "execute_result"
    }
   ],
   "source": [
    "df.columns"
   ]
  },
  {
   "cell_type": "code",
   "execution_count": 31,
   "metadata": {
    "collapsed": true
   },
   "outputs": [],
   "source": [
    "df.to_csv(\"../../encoded1.csv\", index=False)"
   ]
  },
  {
   "cell_type": "code",
   "execution_count": null,
   "metadata": {
    "collapsed": true
   },
   "outputs": [],
   "source": []
  }
 ],
 "metadata": {
  "kernelspec": {
   "display_name": "Python [conda env:PythonData]",
   "language": "python",
   "name": "conda-env-PythonData-py"
  },
  "language_info": {
   "codemirror_mode": {
    "name": "ipython",
    "version": 3
   },
   "file_extension": ".py",
   "mimetype": "text/x-python",
   "name": "python",
   "nbconvert_exporter": "python",
   "pygments_lexer": "ipython3",
   "version": "3.6.1"
  }
 },
 "nbformat": 4,
 "nbformat_minor": 2
}
