{
 "cells": [
  {
   "cell_type": "code",
   "execution_count": 231,
   "metadata": {
    "collapsed": true
   },
   "outputs": [],
   "source": [
    "#run this once to set up - then run next cell for each member\n",
    "# replace encoded1.csv with file paul scraped\n",
    "from bs4 import BeautifulSoup\n",
    "import pandas as pd\n",
    "import requests\n",
    "import re\n",
    "import numpy as np\n",
    "import matplotlib.pyplot as plt\n",
    "from sklearn.model_selection import train_test_split\n",
    "from sklearn.neighbors import KNeighborsClassifier\n",
    "\n",
    "# function for ratings scrape\n",
    "\n",
    "def user_ratings(username):\n",
    "    ratings_count = 0\n",
    "    user_ratings = []\n",
    "    avail_results = True \n",
    "    while avail_results:\n",
    "        # assemble the url, make the request, isolate table\n",
    "        url = f\"https://www.beeradvocate.com/user/beers/?start={ratings_count}&ba={username}&order=dateD&view=R\"\n",
    "        html = requests.get(url)\n",
    "        print(html.url)\n",
    "        soup = BeautifulSoup(html.text, 'html.parser')\n",
    "         # number of user ratings \n",
    "        ######need to dump the ratings from user scrape\n",
    "        \n",
    "        results = soup.find_all('table')\n",
    "        \n",
    "\n",
    "        #increase ratings count to get next page\n",
    "        ratings_count += 50\n",
    "        \n",
    "        #get correct table rows\n",
    "        ratings_list = results[0].find_all('tr')[3:] #increase ratings count to get next page\n",
    "        \n",
    "        #####need catch for no user ratings\n",
    "        if len(ratings_list) > 0:\n",
    "        \n",
    "            #loop through and sort info\n",
    "            for tr in ratings_list:\n",
    "                tds = tr.find_all('td')\n",
    "\n",
    "                # isolate some info\n",
    "                user_rating = tds[-2].text\n",
    "#                 abv = tds[-3].text\n",
    "                rDev = re.findall(r\"([\\d.]*\\d+)\", tds[-1].text)[0]\n",
    "                # further isolate element in list holding 3 features\n",
    "                add_beer_info = tds[2].find_all('a')\n",
    "                \n",
    "                # extract info\n",
    "#                 beer_name = add_beer_info[0].text\n",
    "                beer_link_total = add_beer_info[0]['href']\n",
    "                base_url_ba = \"https://www.beeradvocate.com\"\n",
    "                beer_link = base_url_ba + beer_link_total[0:beer_link_total.find(\"?\")]\n",
    "#                 beer_style = add_beer_info[2].text\n",
    "#                 brewery = add_beer_info[1].text\n",
    "\n",
    "                #dump into dict\n",
    "                ratings_dict = {\n",
    "#                     \"beer_name\": beer_name,\n",
    "#                     \"brewery\": brewery,\n",
    "#                     \"beer_style\": beer_style,\n",
    "#                     \"beer_style_match\": re.sub(r'\\W+', '', beer_style.lower()),\n",
    "                    \"beer_link\": beer_link,\n",
    "                    \"user_rating\": user_rating,\n",
    "#                     \"abv\": abv,\n",
    "                    \"rDev\": rDev\n",
    "\n",
    "                }\n",
    "\n",
    "                # append link to list\n",
    "                user_ratings.append(ratings_dict)\n",
    "        else: \n",
    "            \n",
    "            avail_results = False\n",
    "    user_ratings_df = pd.DataFrame(user_ratings).drop_duplicates()\n",
    "    \n",
    "    return user_ratings_df\n",
    "\n",
    "def match_styles(username):\n",
    "    #create df of user ratings\n",
    "    user_ratings_df = user_ratings(username)\n",
    "    print(len(user_ratings_df))\n",
    "\n",
    "#   # creates two data frames, one for user_ratings, the other for possible recommendations\n",
    "    beer_features_df = pd.read_csv(\"../encoded2.csv\")\n",
    "    user_ratings_df = user_ratings_df.merge(beer_features_df, left_on = 'beer_link', right_on = 'URL', how = \"right\")\n",
    "    rec_df = user_ratings_df[user_ratings_df['beer_link'].isnull()]\n",
    "    user_df = user_ratings_df[user_ratings_df['beer_link'].notnull()]\n",
    "    user_df['user_rating'] = pd.to_numeric(user_df['user_rating'], errors = \"coerce\")\n",
    "    user_df.sort_values('user_rating', ascending = False, inplace=True)\n",
    "    \n",
    "    # decision making for 1 and 0\n",
    "    \n",
    "    return rec_df, user_df"
   ]
  },
  {
   "cell_type": "code",
   "execution_count": 493,
   "metadata": {},
   "outputs": [
    {
     "name": "stdout",
     "output_type": "stream",
     "text": [
      "https://www.beeradvocate.com/user/beers/?start=0&ba=LumpkinBrews&order=dateD&view=R\n",
      "https://www.beeradvocate.com/user/beers/?start=50&ba=LumpkinBrews&order=dateD&view=R\n",
      "https://www.beeradvocate.com/user/beers/?start=100&ba=LumpkinBrews&order=dateD&view=R\n",
      "https://www.beeradvocate.com/user/beers/?start=150&ba=LumpkinBrews&order=dateD&view=R\n",
      "https://www.beeradvocate.com/user/beers/?start=200&ba=LumpkinBrews&order=dateD&view=R\n",
      "https://www.beeradvocate.com/user/beers/?start=250&ba=LumpkinBrews&order=dateD&view=R\n",
      "204\n"
     ]
    },
    {
     "name": "stderr",
     "output_type": "stream",
     "text": [
      "/Users/Ronessa/anaconda/envs/PythonData/lib/python3.6/site-packages/ipykernel/__main__.py:90: SettingWithCopyWarning: \n",
      "A value is trying to be set on a copy of a slice from a DataFrame.\n",
      "Try using .loc[row_indexer,col_indexer] = value instead\n",
      "\n",
      "See the caveats in the documentation: http://pandas.pydata.org/pandas-docs/stable/indexing.html#indexing-view-versus-copy\n",
      "/Users/Ronessa/anaconda/envs/PythonData/lib/python3.6/site-packages/ipykernel/__main__.py:91: SettingWithCopyWarning: \n",
      "A value is trying to be set on a copy of a slice from a DataFrame\n",
      "\n",
      "See the caveats in the documentation: http://pandas.pydata.org/pandas-docs/stable/indexing.html#indexing-view-versus-copy\n"
     ]
    }
   ],
   "source": [
    "user = 'LumpkinBrews'\n",
    "recs, user_df = match_styles(user)"
   ]
  },
  {
   "cell_type": "code",
   "execution_count": 494,
   "metadata": {},
   "outputs": [
    {
     "data": {
      "text/plain": [
       "139"
      ]
     },
     "execution_count": 494,
     "metadata": {},
     "output_type": "execute_result"
    }
   ],
   "source": [
    "len(user_df)"
   ]
  },
  {
   "cell_type": "code",
   "execution_count": 495,
   "metadata": {
    "collapsed": true
   },
   "outputs": [],
   "source": [
    "user_df.sort_values('user_rating', ascending = False, inplace=True)"
   ]
  },
  {
   "cell_type": "code",
   "execution_count": 496,
   "metadata": {},
   "outputs": [
    {
     "data": {
      "text/plain": [
       "6"
      ]
     },
     "execution_count": 496,
     "metadata": {},
     "output_type": "execute_result"
    }
   ],
   "source": [
    "key_val = int(len(user_df)*.05)\n",
    "key_val"
   ]
  },
  {
   "cell_type": "code",
   "execution_count": 497,
   "metadata": {
    "collapsed": true
   },
   "outputs": [],
   "source": [
    "user_df['yesno'] = \"\""
   ]
  },
  {
   "cell_type": "code",
   "execution_count": 498,
   "metadata": {},
   "outputs": [
    {
     "name": "stderr",
     "output_type": "stream",
     "text": [
      "/Users/Ronessa/anaconda/envs/PythonData/lib/python3.6/site-packages/ipykernel/__main__.py:1: SettingWithCopyWarning: \n",
      "A value is trying to be set on a copy of a slice from a DataFrame\n",
      "\n",
      "See the caveats in the documentation: http://pandas.pydata.org/pandas-docs/stable/indexing.html#indexing-view-versus-copy\n",
      "  if __name__ == '__main__':\n",
      "/Users/Ronessa/anaconda/envs/PythonData/lib/python3.6/site-packages/ipykernel/__main__.py:2: SettingWithCopyWarning: \n",
      "A value is trying to be set on a copy of a slice from a DataFrame\n",
      "\n",
      "See the caveats in the documentation: http://pandas.pydata.org/pandas-docs/stable/indexing.html#indexing-view-versus-copy\n",
      "  from ipykernel import kernelapp as app\n"
     ]
    },
    {
     "data": {
      "text/plain": [
       "30     1\n",
       "43     1\n",
       "15     1\n",
       "14     1\n",
       "34     1\n",
       "21     0\n",
       "42     0\n",
       "8      0\n",
       "51     0\n",
       "6      0\n",
       "47     0\n",
       "48     0\n",
       "19     0\n",
       "28     0\n",
       "12     0\n",
       "45     0\n",
       "10     0\n",
       "26     0\n",
       "35     0\n",
       "39     0\n",
       "24     0\n",
       "33     0\n",
       "57     0\n",
       "18     0\n",
       "13     0\n",
       "69     0\n",
       "54     0\n",
       "106    0\n",
       "114    0\n",
       "71     0\n",
       "      ..\n",
       "74     0\n",
       "137    0\n",
       "117    0\n",
       "131    0\n",
       "129    0\n",
       "58     0\n",
       "62     0\n",
       "88     0\n",
       "112    0\n",
       "75     0\n",
       "73     0\n",
       "116    0\n",
       "67     0\n",
       "65     0\n",
       "96     0\n",
       "91     0\n",
       "90     0\n",
       "132    0\n",
       "92     0\n",
       "53     0\n",
       "135    0\n",
       "95     0\n",
       "126    0\n",
       "111    0\n",
       "66     0\n",
       "119    0\n",
       "136    0\n",
       "130    0\n",
       "118    0\n",
       "110    0\n",
       "Name: yesno, Length: 139, dtype: int64"
      ]
     },
     "execution_count": 498,
     "metadata": {},
     "output_type": "execute_result"
    }
   ],
   "source": [
    "user_df['yesno'][0:key_val-1] = 1\n",
    "user_df['yesno'][key_val-1:] = 0\n",
    "user_df['yesno'].astype('int', inplace=True)"
   ]
  },
  {
   "cell_type": "code",
   "execution_count": 499,
   "metadata": {},
   "outputs": [],
   "source": [
    "X = user_df[[\"Flavor\", \"ABV\",\"Hoppiness\",\"Maltiness\",\"Fruitiness\",\"Body\", \"pDev\",\n",
    "          \"Sweetness\",\"Sour\",\"spicy\",\"bitter\", 'Aroma_None', 'Aroma_caramel',\n",
    "       'Aroma_floral', 'Aroma_fruit', 'Custom Flavor_None',\n",
    "       'Custom Flavor_banana', 'Custom Flavor_brown sugar',\n",
    "       'Custom Flavor_burnt', 'Custom Flavor_caramel',\n",
    "       'Custom Flavor_chocolate', 'Custom Flavor_earthy',\n",
    "       'Custom Flavor_herbal', 'Custom Flavor_pumpkin',\n",
    "       'Custom Flavor_roasted', 'Custom Flavor_smoke', 'Custom Flavor_toasted',\n",
    "       'Custom Flavor_wheat', 'Color_amber', 'Color_black', 'Color_dark ',\n",
    "       'Color_gold', 'Color_pale']]\n"
   ]
  },
  {
   "cell_type": "code",
   "execution_count": 500,
   "metadata": {},
   "outputs": [],
   "source": [
    "target = user_df['yesno'].astype('int')\n",
    "target_names = ['good', 'bad']"
   ]
  },
  {
   "cell_type": "code",
   "execution_count": 501,
   "metadata": {},
   "outputs": [
    {
     "data": {
      "text/html": [
       "<div>\n",
       "<style>\n",
       "    .dataframe thead tr:only-child th {\n",
       "        text-align: right;\n",
       "    }\n",
       "\n",
       "    .dataframe thead th {\n",
       "        text-align: left;\n",
       "    }\n",
       "\n",
       "    .dataframe tbody tr th {\n",
       "        vertical-align: top;\n",
       "    }\n",
       "</style>\n",
       "<table border=\"1\" class=\"dataframe\">\n",
       "  <thead>\n",
       "    <tr style=\"text-align: right;\">\n",
       "      <th></th>\n",
       "      <th>Flavor</th>\n",
       "      <th>ABV</th>\n",
       "      <th>Hoppiness</th>\n",
       "      <th>Maltiness</th>\n",
       "      <th>Fruitiness</th>\n",
       "      <th>Body</th>\n",
       "      <th>pDev</th>\n",
       "      <th>Sweetness</th>\n",
       "      <th>Sour</th>\n",
       "      <th>spicy</th>\n",
       "      <th>...</th>\n",
       "      <th>Custom Flavor_pumpkin</th>\n",
       "      <th>Custom Flavor_roasted</th>\n",
       "      <th>Custom Flavor_smoke</th>\n",
       "      <th>Custom Flavor_toasted</th>\n",
       "      <th>Custom Flavor_wheat</th>\n",
       "      <th>Color_amber</th>\n",
       "      <th>Color_black</th>\n",
       "      <th>Color_dark</th>\n",
       "      <th>Color_gold</th>\n",
       "      <th>Color_pale</th>\n",
       "    </tr>\n",
       "  </thead>\n",
       "  <tbody>\n",
       "    <tr>\n",
       "      <th>30</th>\n",
       "      <td>2</td>\n",
       "      <td>13.1</td>\n",
       "      <td>2</td>\n",
       "      <td>2</td>\n",
       "      <td>0</td>\n",
       "      <td>3</td>\n",
       "      <td>5.97</td>\n",
       "      <td>2</td>\n",
       "      <td>0</td>\n",
       "      <td>0</td>\n",
       "      <td>...</td>\n",
       "      <td>0</td>\n",
       "      <td>1</td>\n",
       "      <td>0</td>\n",
       "      <td>0</td>\n",
       "      <td>0</td>\n",
       "      <td>0</td>\n",
       "      <td>1</td>\n",
       "      <td>0</td>\n",
       "      <td>0</td>\n",
       "      <td>0</td>\n",
       "    </tr>\n",
       "    <tr>\n",
       "      <th>43</th>\n",
       "      <td>3</td>\n",
       "      <td>8.5</td>\n",
       "      <td>3</td>\n",
       "      <td>3</td>\n",
       "      <td>0</td>\n",
       "      <td>2</td>\n",
       "      <td>7.05</td>\n",
       "      <td>0</td>\n",
       "      <td>0</td>\n",
       "      <td>0</td>\n",
       "      <td>...</td>\n",
       "      <td>0</td>\n",
       "      <td>0</td>\n",
       "      <td>0</td>\n",
       "      <td>0</td>\n",
       "      <td>0</td>\n",
       "      <td>1</td>\n",
       "      <td>0</td>\n",
       "      <td>0</td>\n",
       "      <td>0</td>\n",
       "      <td>0</td>\n",
       "    </tr>\n",
       "    <tr>\n",
       "      <th>15</th>\n",
       "      <td>2</td>\n",
       "      <td>14.3</td>\n",
       "      <td>2</td>\n",
       "      <td>2</td>\n",
       "      <td>0</td>\n",
       "      <td>3</td>\n",
       "      <td>6.79</td>\n",
       "      <td>2</td>\n",
       "      <td>0</td>\n",
       "      <td>0</td>\n",
       "      <td>...</td>\n",
       "      <td>0</td>\n",
       "      <td>1</td>\n",
       "      <td>0</td>\n",
       "      <td>0</td>\n",
       "      <td>0</td>\n",
       "      <td>0</td>\n",
       "      <td>1</td>\n",
       "      <td>0</td>\n",
       "      <td>0</td>\n",
       "      <td>0</td>\n",
       "    </tr>\n",
       "    <tr>\n",
       "      <th>14</th>\n",
       "      <td>2</td>\n",
       "      <td>12.7</td>\n",
       "      <td>2</td>\n",
       "      <td>2</td>\n",
       "      <td>0</td>\n",
       "      <td>3</td>\n",
       "      <td>6.33</td>\n",
       "      <td>2</td>\n",
       "      <td>0</td>\n",
       "      <td>0</td>\n",
       "      <td>...</td>\n",
       "      <td>0</td>\n",
       "      <td>1</td>\n",
       "      <td>0</td>\n",
       "      <td>0</td>\n",
       "      <td>0</td>\n",
       "      <td>0</td>\n",
       "      <td>1</td>\n",
       "      <td>0</td>\n",
       "      <td>0</td>\n",
       "      <td>0</td>\n",
       "    </tr>\n",
       "    <tr>\n",
       "      <th>34</th>\n",
       "      <td>2</td>\n",
       "      <td>7.6</td>\n",
       "      <td>1</td>\n",
       "      <td>1</td>\n",
       "      <td>0</td>\n",
       "      <td>2</td>\n",
       "      <td>6.37</td>\n",
       "      <td>0</td>\n",
       "      <td>0</td>\n",
       "      <td>0</td>\n",
       "      <td>...</td>\n",
       "      <td>0</td>\n",
       "      <td>1</td>\n",
       "      <td>0</td>\n",
       "      <td>0</td>\n",
       "      <td>0</td>\n",
       "      <td>0</td>\n",
       "      <td>1</td>\n",
       "      <td>0</td>\n",
       "      <td>0</td>\n",
       "      <td>0</td>\n",
       "    </tr>\n",
       "  </tbody>\n",
       "</table>\n",
       "<p>5 rows × 33 columns</p>\n",
       "</div>"
      ],
      "text/plain": [
       "    Flavor   ABV  Hoppiness  Maltiness  Fruitiness  Body  pDev  Sweetness  \\\n",
       "30       2  13.1          2          2           0     3  5.97          2   \n",
       "43       3   8.5          3          3           0     2  7.05          0   \n",
       "15       2  14.3          2          2           0     3  6.79          2   \n",
       "14       2  12.7          2          2           0     3  6.33          2   \n",
       "34       2   7.6          1          1           0     2  6.37          0   \n",
       "\n",
       "    Sour  spicy     ...      Custom Flavor_pumpkin  Custom Flavor_roasted  \\\n",
       "30     0      0     ...                          0                      1   \n",
       "43     0      0     ...                          0                      0   \n",
       "15     0      0     ...                          0                      1   \n",
       "14     0      0     ...                          0                      1   \n",
       "34     0      0     ...                          0                      1   \n",
       "\n",
       "    Custom Flavor_smoke  Custom Flavor_toasted  Custom Flavor_wheat  \\\n",
       "30                    0                      0                    0   \n",
       "43                    0                      0                    0   \n",
       "15                    0                      0                    0   \n",
       "14                    0                      0                    0   \n",
       "34                    0                      0                    0   \n",
       "\n",
       "    Color_amber  Color_black  Color_dark   Color_gold  Color_pale  \n",
       "30            0            1            0           0           0  \n",
       "43            1            0            0           0           0  \n",
       "15            0            1            0           0           0  \n",
       "14            0            1            0           0           0  \n",
       "34            0            1            0           0           0  \n",
       "\n",
       "[5 rows x 33 columns]"
      ]
     },
     "execution_count": 501,
     "metadata": {},
     "output_type": "execute_result"
    }
   ],
   "source": [
    "X.head()"
   ]
  },
  {
   "cell_type": "markdown",
   "metadata": {},
   "source": [
    "# Decision Tree"
   ]
  },
  {
   "cell_type": "code",
   "execution_count": 502,
   "metadata": {},
   "outputs": [
    {
     "data": {
      "text/plain": [
       "Index(['Flavor', 'ABV', 'Hoppiness', 'Maltiness', 'Fruitiness', 'Body', 'pDev',\n",
       "       'Sweetness', 'Sour', 'spicy', 'bitter', 'Aroma_None', 'Aroma_caramel',\n",
       "       'Aroma_floral', 'Aroma_fruit', 'Custom Flavor_None',\n",
       "       'Custom Flavor_banana', 'Custom Flavor_brown sugar',\n",
       "       'Custom Flavor_burnt', 'Custom Flavor_caramel',\n",
       "       'Custom Flavor_chocolate', 'Custom Flavor_earthy',\n",
       "       'Custom Flavor_herbal', 'Custom Flavor_pumpkin',\n",
       "       'Custom Flavor_roasted', 'Custom Flavor_smoke', 'Custom Flavor_toasted',\n",
       "       'Custom Flavor_wheat', 'Color_amber', 'Color_black', 'Color_dark ',\n",
       "       'Color_gold', 'Color_pale'],\n",
       "      dtype='object')"
      ]
     },
     "execution_count": 502,
     "metadata": {},
     "output_type": "execute_result"
    }
   ],
   "source": [
    "feature_names = X.columns\n",
    "feature_names"
   ]
  },
  {
   "cell_type": "code",
   "execution_count": 503,
   "metadata": {},
   "outputs": [],
   "source": [
    "from sklearn.model_selection import train_test_split\n",
    "from sklearn import tree\n",
    "\n",
    "X_train, X_test, y_train, y_test = train_test_split(X, target, random_state = 42)\n"
   ]
  },
  {
   "cell_type": "code",
   "execution_count": 504,
   "metadata": {},
   "outputs": [
    {
     "data": {
      "text/plain": [
       "0.97142857142857142"
      ]
     },
     "execution_count": 504,
     "metadata": {},
     "output_type": "execute_result"
    }
   ],
   "source": [
    "clf = tree.DecisionTreeClassifier()\n",
    "clf = clf.fit(X_train, y_train)\n",
    "clf.score(X_test, y_test)"
   ]
  },
  {
   "cell_type": "code",
   "execution_count": 505,
   "metadata": {},
   "outputs": [
    {
     "data": {
      "text/plain": [
       "True     138\n",
       "False      1\n",
       "Name: test, dtype: int64"
      ]
     },
     "execution_count": 505,
     "metadata": {},
     "output_type": "execute_result"
    }
   ],
   "source": [
    "predictions = clf.predict(X)\n",
    "actual = user_df['yesno'].astype('int')\n",
    "df = pd.DataFrame({\"Predict\": predictions, \"actual\": actual})\n",
    "df['test'] = (df['Predict'] == df['actual'])\n",
    "df['test'].value_counts()"
   ]
  },
  {
   "cell_type": "code",
   "execution_count": 506,
   "metadata": {},
   "outputs": [
    {
     "data": {
      "text/plain": [
       "0.97142857142857142"
      ]
     },
     "execution_count": 506,
     "metadata": {},
     "output_type": "execute_result"
    }
   ],
   "source": [
    "from sklearn.ensemble import RandomForestClassifier\n",
    "rf = RandomForestClassifier(n_estimators=200)\n",
    "rf = rf.fit(X_train, y_train)\n",
    "rf.score(X_test, y_test)"
   ]
  },
  {
   "cell_type": "code",
   "execution_count": 507,
   "metadata": {},
   "outputs": [
    {
     "data": {
      "text/plain": [
       "True     138\n",
       "False      1\n",
       "Name: test, dtype: int64"
      ]
     },
     "execution_count": 507,
     "metadata": {},
     "output_type": "execute_result"
    }
   ],
   "source": [
    "predictions = rf.predict(X)\n",
    "actual = user_df['yesno'].astype('int')\n",
    "df = pd.DataFrame({\"Predict\": predictions, \"actual\": actual})\n",
    "df['test'] = (df['Predict'] == df['actual'])\n",
    "df['test'].value_counts()"
   ]
  },
  {
   "cell_type": "code",
   "execution_count": 508,
   "metadata": {},
   "outputs": [],
   "source": [
    "recsX = recs[[\"Flavor\", \"ABV\",\"Hoppiness\",\"Maltiness\",\"Fruitiness\",\"Body\", \"pDev\",\n",
    "          \"Sweetness\",\"Sour\",\"spicy\",\"bitter\", 'Aroma_None', 'Aroma_caramel',\n",
    "       'Aroma_floral', 'Aroma_fruit', 'Custom Flavor_None',\n",
    "       'Custom Flavor_banana', 'Custom Flavor_brown sugar',\n",
    "       'Custom Flavor_burnt', 'Custom Flavor_caramel',\n",
    "       'Custom Flavor_chocolate', 'Custom Flavor_earthy',\n",
    "       'Custom Flavor_herbal', 'Custom Flavor_pumpkin',\n",
    "       'Custom Flavor_roasted', 'Custom Flavor_smoke', 'Custom Flavor_toasted',\n",
    "       'Custom Flavor_wheat', 'Color_amber', 'Color_black', 'Color_dark ',\n",
    "       'Color_gold', 'Color_pale']]"
   ]
  },
  {
   "cell_type": "code",
   "execution_count": 509,
   "metadata": {},
   "outputs": [],
   "source": [
    "recommendations = rf.predict(recsX)"
   ]
  },
  {
   "cell_type": "code",
   "execution_count": 510,
   "metadata": {},
   "outputs": [
    {
     "data": {
      "text/plain": [
       "31"
      ]
     },
     "execution_count": 510,
     "metadata": {},
     "output_type": "execute_result"
    }
   ],
   "source": [
    "list(recommendations).count(1)"
   ]
  },
  {
   "cell_type": "code",
   "execution_count": 511,
   "metadata": {},
   "outputs": [
    {
     "data": {
      "text/plain": [
       "32641"
      ]
     },
     "execution_count": 511,
     "metadata": {},
     "output_type": "execute_result"
    }
   ],
   "source": [
    "len(recommendations)"
   ]
  },
  {
   "cell_type": "code",
   "execution_count": 512,
   "metadata": {},
   "outputs": [
    {
     "data": {
      "text/plain": [
       "Index(['beer_link', 'rDev', 'user_rating', 'ABV', 'Availaility', 'Brewer',\n",
       "       'BrosScore', 'ImageLink', 'Location', 'Name', 'Ranking', 'num_ratings',\n",
       "       'ReviewCount', 'Score', 'ScoreClass', 'Style', 'URL', 'pDev', 'Flavor',\n",
       "       'Hoppiness', 'Maltiness', 'Fruitiness', 'Body', 'Sweetness', 'Sour',\n",
       "       'spicy', 'bitter', 'Aroma_None', 'Aroma_caramel', 'Aroma_floral',\n",
       "       'Aroma_fruit', 'Custom Flavor_None', 'Custom Flavor_banana',\n",
       "       'Custom Flavor_brown sugar', 'Custom Flavor_burnt',\n",
       "       'Custom Flavor_caramel', 'Custom Flavor_chocolate',\n",
       "       'Custom Flavor_earthy', 'Custom Flavor_herbal', 'Custom Flavor_pumpkin',\n",
       "       'Custom Flavor_roasted', 'Custom Flavor_smoke', 'Custom Flavor_toasted',\n",
       "       'Custom Flavor_wheat', 'Color_amber', 'Color_black', 'Color_dark ',\n",
       "       'Color_gold', 'Color_pale'],\n",
       "      dtype='object')"
      ]
     },
     "execution_count": 512,
     "metadata": {},
     "output_type": "execute_result"
    }
   ],
   "source": [
    "recs.columns"
   ]
  },
  {
   "cell_type": "code",
   "execution_count": 513,
   "metadata": {},
   "outputs": [
    {
     "data": {
      "text/plain": [
       "32641"
      ]
     },
     "execution_count": 513,
     "metadata": {},
     "output_type": "execute_result"
    }
   ],
   "source": [
    "len(recs)"
   ]
  },
  {
   "cell_type": "code",
   "execution_count": 514,
   "metadata": {},
   "outputs": [],
   "source": [
    "recsCut1 = recs[recs['Score'] > 4.0]"
   ]
  },
  {
   "cell_type": "code",
   "execution_count": 515,
   "metadata": {},
   "outputs": [],
   "source": [
    "recsCut = recsCut1[[\"Flavor\", \"ABV\",\"Hoppiness\",\"Maltiness\",\"Fruitiness\",\"Body\", \"pDev\",\n",
    "          \"Sweetness\",\"Sour\",\"spicy\",\"bitter\", 'Aroma_None', 'Aroma_caramel',\n",
    "       'Aroma_floral', 'Aroma_fruit', 'Custom Flavor_None',\n",
    "       'Custom Flavor_banana', 'Custom Flavor_brown sugar',\n",
    "       'Custom Flavor_burnt', 'Custom Flavor_caramel',\n",
    "       'Custom Flavor_chocolate', 'Custom Flavor_earthy',\n",
    "       'Custom Flavor_herbal', 'Custom Flavor_pumpkin',\n",
    "       'Custom Flavor_roasted', 'Custom Flavor_smoke', 'Custom Flavor_toasted',\n",
    "       'Custom Flavor_wheat', 'Color_amber', 'Color_black', 'Color_dark ',\n",
    "       'Color_gold', 'Color_pale']]"
   ]
  },
  {
   "cell_type": "code",
   "execution_count": 516,
   "metadata": {},
   "outputs": [
    {
     "data": {
      "text/plain": [
       "9071"
      ]
     },
     "execution_count": 516,
     "metadata": {},
     "output_type": "execute_result"
    }
   ],
   "source": [
    "len(recsCut)"
   ]
  },
  {
   "cell_type": "code",
   "execution_count": 517,
   "metadata": {},
   "outputs": [],
   "source": [
    "recommendations = rf.predict(recsCut)"
   ]
  },
  {
   "cell_type": "code",
   "execution_count": 518,
   "metadata": {},
   "outputs": [
    {
     "data": {
      "text/plain": [
       "28"
      ]
     },
     "execution_count": 518,
     "metadata": {},
     "output_type": "execute_result"
    }
   ],
   "source": [
    "list(recommendations).count(1)"
   ]
  },
  {
   "cell_type": "code",
   "execution_count": 519,
   "metadata": {},
   "outputs": [
    {
     "name": "stderr",
     "output_type": "stream",
     "text": [
      "/Users/Ronessa/anaconda/envs/PythonData/lib/python3.6/site-packages/ipykernel/__main__.py:1: SettingWithCopyWarning: \n",
      "A value is trying to be set on a copy of a slice from a DataFrame.\n",
      "Try using .loc[row_indexer,col_indexer] = value instead\n",
      "\n",
      "See the caveats in the documentation: http://pandas.pydata.org/pandas-docs/stable/indexing.html#indexing-view-versus-copy\n",
      "  if __name__ == '__main__':\n"
     ]
    }
   ],
   "source": [
    "recsCut1['recs'] = recommendations"
   ]
  },
  {
   "cell_type": "code",
   "execution_count": 520,
   "metadata": {},
   "outputs": [
    {
     "data": {
      "text/plain": [
       "Style\n",
       "American Double / Imperial IPA       3\n",
       "American Double / Imperial Stout    25\n",
       "Name: recs, dtype: int64"
      ]
     },
     "execution_count": 520,
     "metadata": {},
     "output_type": "execute_result"
    }
   ],
   "source": [
    "recsCut1[recsCut1['recs'] == 1].groupby('Style')['recs'].count()"
   ]
  },
  {
   "cell_type": "code",
   "execution_count": null,
   "metadata": {
    "collapsed": true
   },
   "outputs": [],
   "source": []
  },
  {
   "cell_type": "code",
   "execution_count": null,
   "metadata": {
    "collapsed": true
   },
   "outputs": [],
   "source": []
  }
 ],
 "metadata": {
  "kernelspec": {
   "display_name": "Python [conda env:PythonData]",
   "language": "python",
   "name": "conda-env-PythonData-py"
  },
  "language_info": {
   "codemirror_mode": {
    "name": "ipython",
    "version": 3
   },
   "file_extension": ".py",
   "mimetype": "text/x-python",
   "name": "python",
   "nbconvert_exporter": "python",
   "pygments_lexer": "ipython3",
   "version": "3.6.1"
  }
 },
 "nbformat": 4,
 "nbformat_minor": 2
}
