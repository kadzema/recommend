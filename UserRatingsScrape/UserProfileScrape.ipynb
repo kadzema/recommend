{
 "cells": [
  {
   "cell_type": "code",
   "execution_count": 1,
   "metadata": {
    "collapsed": true
   },
   "outputs": [],
   "source": [
    "import csv\n",
    "from bs4 import BeautifulSoup\n",
    "import pandas as pd\n",
    "import requests\n",
    "import re"
   ]
  },
  {
   "cell_type": "code",
   "execution_count": 46,
   "metadata": {},
   "outputs": [],
   "source": [
    "def user_scrape(username):\n",
    "    #  build user url\n",
    "    url = f\"https://www.beeradvocate.com/user/beers/?ba={username}&order=ratingD&start=0&view=R\"\n",
    "    \n",
    "    #  make request \n",
    "    response = requests.get(url)\n",
    "    \n",
    "    # beatiful soup object\n",
    "    soup = BeautifulSoup(response.text, 'html.parser')\n",
    "    \n",
    "    # grab user info table\n",
    "    profile_table = soup.find(\"div\", class_ = \"pairsJustified\")\n",
    "    \n",
    "    # data-points\n",
    "    dls = profile_table.find_all('dl')\n",
    "    \n",
    "    #  dictionary holding user states\n",
    "    profile_dict = {\"user_name\" : username}\n",
    "    \n",
    "    # loop through table items and make dictionary keys and values\n",
    "    for dl in dls:\n",
    "        profile_dict[dl.find('dt').text] = dl.find('dd').text\n",
    "    \n",
    "    # get the ratings table on the page\n",
    "    table = soup.find('table')\n",
    "    # get the ratings by row\n",
    "    user_ratings = table.find_all('tr')[3:]\n",
    "\n",
    "    # list for top 3\n",
    "    top_3 = []\n",
    "\n",
    "    #\n",
    "    for x in range(3):\n",
    "        text_info = user_ratings[x].find_all('a')\n",
    "        num_info = user_ratings[x].find_all('td')[-3:-1]\n",
    "        top_3_dict = {\"Beer Name\": text_info[0].text,\n",
    "                     \"Brewery\": text_info[1].text,\n",
    "                     \"Beer Style\": text_info[2].text,\n",
    "                     \"ABV\": num_info[0].text,\n",
    "                     \"User Rating\": num_info[1].text}\n",
    "        top_3.append(top_3_dict)\n",
    "\n",
    "    return profile_dict, top_3\n",
    "    \n",
    "\n",
    "profile, top_3 = user_scrape(\"brutaltruth\")\n"
   ]
  },
  {
   "cell_type": "code",
   "execution_count": 47,
   "metadata": {},
   "outputs": [
    {
     "data": {
      "text/plain": [
       "{'Beer Styles:': '92',\n",
       " 'Beers Added / Pics Uploaded:': '100 / 0',\n",
       " 'Beers Rated / Reviewed:': '1,654 / 1,651',\n",
       " 'Brewers:': '440',\n",
       " 'US States / Countries:': '40 / 30',\n",
       " 'user_name': 'brutaltruth'}"
      ]
     },
     "execution_count": 47,
     "metadata": {},
     "output_type": "execute_result"
    }
   ],
   "source": [
    "profile"
   ]
  },
  {
   "cell_type": "code",
   "execution_count": 48,
   "metadata": {},
   "outputs": [
    {
     "data": {
      "text/plain": [
       "[{'ABV': '16.90',\n",
       "  'Beer Name': 'Rumpkin',\n",
       "  'Beer Style': 'Pumpkin Ale',\n",
       "  'Brewery': 'Avery Brewing Company',\n",
       "  'User Rating': '4.74'},\n",
       " {'ABV': '11.50',\n",
       "  'Beer Name': 'Imperial Doughnut Break',\n",
       "  'Beer Style': 'American Porter',\n",
       "  'Brewery': 'Evil Twin Brewing',\n",
       "  'User Rating': '4.63'},\n",
       " {'ABV': '10.50',\n",
       "  'Beer Name': 'Founders Imperial Stout',\n",
       "  'Beer Style': 'Russian Imperial Stout',\n",
       "  'Brewery': 'Founders Brewing Company',\n",
       "  'User Rating': '4.6'}]"
      ]
     },
     "execution_count": 48,
     "metadata": {},
     "output_type": "execute_result"
    }
   ],
   "source": [
    "top_3"
   ]
  },
  {
   "cell_type": "code",
   "execution_count": 42,
   "metadata": {},
   "outputs": [
    {
     "data": {
      "text/plain": [
       "[{'ABV': '16.90',\n",
       "  'Beer Name': 'Rumpkin',\n",
       "  'Beer Style': 'Pumpkin Ale',\n",
       "  'Brewery': 'Avery Brewing Company',\n",
       "  'User Rating': '4.74'},\n",
       " {'ABV': '11.50',\n",
       "  'Beer Name': 'Imperial Doughnut Break',\n",
       "  'Beer Style': 'American Porter',\n",
       "  'Brewery': 'Evil Twin Brewing',\n",
       "  'User Rating': '4.63'},\n",
       " {'ABV': '10.50',\n",
       "  'Beer Name': 'Founders Imperial Stout',\n",
       "  'Beer Style': 'Russian Imperial Stout',\n",
       "  'Brewery': 'Founders Brewing Company',\n",
       "  'User Rating': '4.6'}]"
      ]
     },
     "execution_count": 42,
     "metadata": {},
     "output_type": "execute_result"
    }
   ],
   "source": [
    "username = \"brutaltruth\"\n",
    "url = f\"https://www.beeradvocate.com/user/beers/?ba={username}&order=ratingD&start=0&view=R\"\n",
    "\n",
    "\n",
    "#  make request \n",
    "response = requests.get(url)\n",
    "    \n",
    "# beatiful soup object\n",
    "soup = BeautifulSoup(response.text, 'html.parser')\n",
    "\n",
    "table = soup.find('table')\n",
    "\n",
    "user_ratings = table.find_all('tr')[3:]\n",
    "\n",
    "top_3 = []\n",
    "\n",
    "for x in range(3):\n",
    "    text_info = user_ratings[x].find_all('a')\n",
    "    num_info = user_ratings[x].find_all('td')[-3:-1]\n",
    "    top_3_dict = {\"Beer Name\": text_info[0].text,\n",
    "                 \"Brewery\": text_info[1].text,\n",
    "                 \"Beer Style\": text_info[2].text,\n",
    "                 \"ABV\": num_info[0].text,\n",
    "                 \"User Rating\": num_info[1].text}\n",
    "    top_3.append(top_3_dict)\n",
    "    \n"
   ]
  },
  {
   "cell_type": "code",
   "execution_count": null,
   "metadata": {
    "collapsed": true
   },
   "outputs": [],
   "source": []
  }
 ],
 "metadata": {
  "kernelspec": {
   "display_name": "Python [conda env:PythonData]",
   "language": "python",
   "name": "conda-env-PythonData-py"
  },
  "language_info": {
   "codemirror_mode": {
    "name": "ipython",
    "version": 3
   },
   "file_extension": ".py",
   "mimetype": "text/x-python",
   "name": "python",
   "nbconvert_exporter": "python",
   "pygments_lexer": "ipython3",
   "version": "3.6.1"
  }
 },
 "nbformat": 4,
 "nbformat_minor": 2
}
